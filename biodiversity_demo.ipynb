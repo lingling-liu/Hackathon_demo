{
 "cells": [
  {
   "cell_type": "code",
   "execution_count": 2,
   "id": "931ed1c1",
   "metadata": {},
   "outputs": [
    {
     "name": "stdout",
     "output_type": "stream",
     "text": [
      "Processed Group_1_updated in 1.20 minutes\n"
     ]
    },
    {
     "data": {
      "application/vnd.jupyter.widget-view+json": {
       "model_id": "d2bc1036db144642a35fdd63f85b3a24",
       "version_major": 2,
       "version_minor": 0
      },
      "text/plain": [
       "interactive(children=(Dropdown(description='species', options=('Abbottina rivularis', 'Abbreviata antarctica',…"
      ]
     },
     "metadata": {},
     "output_type": "display_data"
    },
    {
     "data": {
      "text/plain": [
       "<function __main__.generate_pie_chart(species)>"
      ]
     },
     "execution_count": 2,
     "metadata": {},
     "output_type": "execute_result"
    }
   ],
   "source": [
    "import geopandas as gpd\n",
    "import pandas as pd\n",
    "import matplotlib.pyplot as plt\n",
    "import os\n",
    "import time\n",
    "import glob\n",
    "from ipywidgets import interact, Dropdown\n",
    "from alive_progress import alive_bar  # Import the alive-progress bar\n",
    "\n",
    "# Load the country shapefile\n",
    "gdf_shp = gpd.read_file(\"C:\\\\KIDS\\\\wb_countries_admin0_10m\\\\WB_countries_Admin0_10m.shp\")\n",
    "\n",
    "# Folder for GBIF shapefiles\n",
    "directory = \"C:/KIDS/data2024_0321/GBIF_Parallel_GIS_group/demo/\"\n",
    "os.chdir(directory)\n",
    "extension = '*.shp'\n",
    "\n",
    "# Find all shapefiles\n",
    "shp_files = glob.glob(f'{directory}/{extension}')\n",
    "\n",
    "# Location for output pivot table\n",
    "output_dir = \"C:/KIDS/data2024_0321/species/demo/\"\n",
    "\n",
    "# Process each file\n",
    "total_data = []\n",
    "\n",
    "# Start processing each shapefile\n",
    "for filename in shp_files:\n",
    "    start_time = time.time()\n",
    "    file_name = os.path.basename(filename).split('.')[0]\n",
    "    output_file = f\"{output_dir}{file_name}_area_by_country.csv\"\n",
    "    \n",
    "    if os.path.isfile(filename): \n",
    "        gdf = gpd.read_file(filename).dropna(subset=[\"group\"])\n",
    "        \n",
    "        # Initialize progress bar for features in the current shapefile\n",
    "        total_features = len(gdf)\n",
    "        with alive_bar(total_features, title=f\"Processing features in {file_name}\", force_tty=True) as bar:\n",
    "            for index, feature in gdf.iterrows():\n",
    "                gdf_each = gpd.GeoDataFrame([feature], crs=gdf.crs)\n",
    "                gdf_each = gdf_each.to_crs(gdf_shp.crs)\n",
    "                intersection = gpd.overlay(gdf_each, gdf_shp, how='intersection')\n",
    "                intersection['Area_km2'] = intersection.to_crs('ESRI:54009').geometry.area / 1e6 \n",
    "                total_data.append(intersection[['species', 'lcat', 'group', 'WB_NAME', 'Area_km2']])\n",
    "                \n",
    "                bar()  # Update the progress bar after each feature is processed\n",
    "\n",
    "        # Save concatenated DataFrame to CSV\n",
    "        combined_df = pd.concat(total_data, ignore_index=True)\n",
    "        combined_df.to_csv(output_file)\n",
    "        print(f\"Processed {file_name} in {(time.time() - start_time)/60:.2f} minutes\", flush=True)\n",
    "\n",
    "# Function to create pie charts\n",
    "def generate_pie_chart(species):\n",
    "    data = combined_df[combined_df['species'] == species]\n",
    "    grouped_data = data.groupby('WB_NAME')['Area_km2'].sum()\n",
    "    grouped_data.plot(kind='pie', autopct='%1.1f%%', ylabel='', title=f'Area Distribution for {species}')\n",
    "    plt.show()\n",
    "\n",
    "# Create dropdown for species selection\n",
    "species_list = combined_df['species'].unique()\n",
    "dropdown = Dropdown(options=species_list, value='Abantis venosa')\n",
    "\n",
    "# Display dropdown and bind the pie chart function\n",
    "interact(generate_pie_chart, species=dropdown)\n"
   ]
  },
  {
   "cell_type": "code",
   "execution_count": null,
   "id": "9f38f80d",
   "metadata": {},
   "outputs": [],
   "source": []
  }
 ],
 "metadata": {
  "kernelspec": {
   "display_name": "Python (kids_1)",
   "language": "python",
   "name": "kids"
  },
  "language_info": {
   "codemirror_mode": {
    "name": "ipython",
    "version": 3
   },
   "file_extension": ".py",
   "mimetype": "text/x-python",
   "name": "python",
   "nbconvert_exporter": "python",
   "pygments_lexer": "ipython3",
   "version": "3.11.9"
  }
 },
 "nbformat": 4,
 "nbformat_minor": 5
}
